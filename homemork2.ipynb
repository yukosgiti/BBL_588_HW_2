{
 "cells": [
  {
   "cell_type": "markdown",
   "metadata": {},
   "source": [
    "# BBL588E Homework 2\n",
    "Yüksel Kapan - 7004191018"
   ]
  },
  {
   "cell_type": "markdown",
   "metadata": {},
   "source": [
    "## Question 1\n",
    "\n",
    "* Segment the “Sunny Lake” image using k-means algorithm. \n",
    "* Use different k-values and compare your results.\n",
    "\n",
    "* You may try with different feature vectors, as well. For example, you may want to convert the colored image to greyscale and try only using the greyscale values as the feature “vector”. \n",
    "\n",
    "* Or else, you may build a feature vector composed of greyscale value and locations of the pixels. Or else, you may use color values (R, G, B) augmented with the locations. You may even utilize a filter bank accounting for different textures. "
   ]
  },
  {
   "cell_type": "code",
   "execution_count": null,
   "metadata": {},
   "outputs": [],
   "source": [
    "# Code here..."
   ]
  },
  {
   "cell_type": "markdown",
   "metadata": {},
   "source": [
    "## Question 2\n",
    "\n",
    "* Segment the image using mean-shift clustering based segmentation. \n",
    "* Compare your results with the ones you found in 1. \n",
    "* For the mean-shift image segmentation you may require to set the window size. \n",
    "* Report your results for various window sizes. As for 1., you may utilize mean-shift segmentation for greyscale version of the image, as well as, for the colored version.\n",
    "* Compare your results with the ones in 1"
   ]
  },
  {
   "cell_type": "code",
   "execution_count": null,
   "metadata": {},
   "outputs": [],
   "source": [
    "# Code here..."
   ]
  }
 ],
 "metadata": {
  "language_info": {
   "codemirror_mode": {
    "name": "ipython",
    "version": 3
   },
   "file_extension": ".py",
   "mimetype": "text/x-python",
   "name": "python",
   "nbconvert_exporter": "python",
   "pygments_lexer": "ipython3",
   "version": "3.8.1-final"
  },
  "orig_nbformat": 2,
  "kernelspec": {
   "name": "python38164bitenvvenv8e7384200b694f85acde3b540ed62dcd",
   "display_name": "Python 3.8.1 64-bit ('.env': venv)"
  }
 },
 "nbformat": 4,
 "nbformat_minor": 2
}